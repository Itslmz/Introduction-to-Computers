{
  "nbformat": 4,
  "nbformat_minor": 0,
  "metadata": {
    "colab": {
      "name": "0509.ipynb",
      "provenance": [],
      "authorship_tag": "ABX9TyNfWIQSdW7wgy52l3nsoATC",
      "include_colab_link": true
    },
    "kernelspec": {
      "name": "python3",
      "display_name": "Python 3"
    },
    "language_info": {
      "name": "python"
    }
  },
  "cells": [
    {
      "cell_type": "markdown",
      "metadata": {
        "id": "view-in-github",
        "colab_type": "text"
      },
      "source": [
        "<a href=\"https://colab.research.google.com/github/Itslmz/Introduction-to-Computers/blob/main/0509.ipynb\" target=\"_parent\"><img src=\"https://colab.research.google.com/assets/colab-badge.svg\" alt=\"Open In Colab\"/></a>"
      ]
    },
    {
      "cell_type": "code",
      "execution_count": 4,
      "metadata": {
        "colab": {
          "base_uri": "https://localhost:8080/"
        },
        "id": "cGfVVb5dBEKK",
        "outputId": "75af6ae1-e4f8-4fbf-ed6b-7ac68d89f03e"
      },
      "outputs": [
        {
          "output_type": "stream",
          "name": "stdout",
          "text": [
            "請輸入你的體溫36\n",
            "體溫異常,請重新量測！\n"
          ]
        }
      ],
      "source": [
        "temp=float(input(\"請輸入你的體溫\"))\n",
        "if temp >= 37.5:\n",
        "  print(\"體溫過高\")\n",
        "elif temp >=37 and temp <37.4:\n",
        "  print(\"體溫略高\")\n",
        "\n",
        "else:\n",
        "  print(\"體溫異常,請重新量測！\")\n",
        "\n"
      ]
    },
    {
      "cell_type": "code",
      "source": [
        "score = input(\"請輸入成績\")\n",
        "if(int(score)>=90):\n",
        "   print(\"A\")\n",
        "elif(int(score)>=80):\n",
        "   print(\"B\")\n",
        "elif(int(score)>=70):\n",
        "   print(\"C\")\n",
        "elif(int(score)>=60):\n",
        "   print(\"D\")\n",
        "else:\n",
        "  print(\"E\")"
      ],
      "metadata": {
        "colab": {
          "base_uri": "https://localhost:8080/"
        },
        "id": "oYzhH461HGl-",
        "outputId": "da1edbed-dafe-48cf-f032-e071b6bd9971"
      },
      "execution_count": 6,
      "outputs": [
        {
          "output_type": "stream",
          "name": "stdout",
          "text": [
            "請輸入成績60\n",
            "D\n"
          ]
        }
      ]
    },
    {
      "cell_type": "code",
      "source": [
        "money=int(input(\"請輸入購物金額\"))\n",
        "if (money>=10000):\n",
        "  if(money>=100000):\n",
        "    print(\"八折\",money *0.8, end=\"元\\n\")\n",
        "  elif(money>=50000):\n",
        "    print(\"八五折\",money*0.85,end=\"元\\n\")\n",
        "  elif(money>=30000):\n",
        "    print(\"九折\",money*0.9,end=\"元\\n\")\n",
        "  else:\n",
        "    print(\"九五折\",money*0.95,end=\"元\\n\")\n",
        "else:\n",
        "  print(\"沒打折\",money,end=\"元\\n\")"
      ],
      "metadata": {
        "colab": {
          "base_uri": "https://localhost:8080/"
        },
        "id": "yzcr4YLKIuTz",
        "outputId": "fde1738b-2c4e-4caf-cae9-2a5811e4e14f"
      },
      "execution_count": 8,
      "outputs": [
        {
          "output_type": "stream",
          "name": "stdout",
          "text": [
            "請輸入購物金額50000\n",
            "八五折 42500.0元\n"
          ]
        }
      ]
    },
    {
      "cell_type": "code",
      "source": [
        "x=int(input(\"請輸入月份\"))\n",
        "if (x<13):\n",
        "  if (x>=3 and x<=5):\n",
        "    print(x,\"月是春天！\")\n",
        "  elif(x>=6 and x<=8):\n",
        "    print(x,\"月是夏天！\")\n",
        "  elif(x>=9 and x<=11):\n",
        "    print(x,\"月是秋天！\")\n",
        "  else:\n",
        "    print(x,\"月是冬天！\")\n",
        "else:\n",
        "  print(\"月份不在範圍內！\")\n"
      ],
      "metadata": {
        "colab": {
          "base_uri": "https://localhost:8080/"
        },
        "id": "TCvFr_rDMgEt",
        "outputId": "7452cd78-c268-44a3-8d5a-8d9e38a0dfb2"
      },
      "execution_count": 43,
      "outputs": [
        {
          "output_type": "stream",
          "name": "stdout",
          "text": [
            "請輸入月份1\n",
            "1 月是冬天！\n"
          ]
        }
      ]
    },
    {
      "cell_type": "code",
      "source": [
        "r=int(input(\"請輸入今年收入淨額：\"))\n",
        "if (r>=300000):\n",
        "  if(r>=2000000):\n",
        "    print(\"付稅金額：\",r*0.3,end=\"元\\n\")\n",
        "  elif(r>=1000000):\n",
        "    print(\"付稅金額：\",r*0.21,end=\"元\\n\")\n",
        "  elif(r>=600000):\n",
        "    print(\"付稅金額：\",r*0.13,end=\"元\\n\")\n",
        "  else:\n",
        "    print(\"付稅金額：\",r*0.06,end=\"元\\n\")\n",
        "else:\n",
        "  print(\"付稅金額：\",0,end=\"元\\n\")"
      ],
      "metadata": {
        "colab": {
          "base_uri": "https://localhost:8080/"
        },
        "id": "Bb52ZwDUQWlB",
        "outputId": "905d5724-6426-44a9-f2bd-a8b024192376"
      },
      "execution_count": 39,
      "outputs": [
        {
          "output_type": "stream",
          "name": "stdout",
          "text": [
            "請輸入今年收入淨額：2000000\n",
            "付稅金額： 600000.0元\n"
          ]
        }
      ]
    }
  ]
}